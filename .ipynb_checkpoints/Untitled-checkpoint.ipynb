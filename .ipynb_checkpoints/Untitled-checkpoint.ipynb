{
 "cells": [
  {
   "cell_type": "code",
   "execution_count": 1,
   "id": "6a61f0fa-be1b-49ca-a6ac-78a7a58455e7",
   "metadata": {},
   "outputs": [
    {
     "ename": "NameError",
     "evalue": "name 'printf' is not defined",
     "output_type": "error",
     "traceback": [
      "\u001b[1;31m---------------------------------------------------------------------------\u001b[0m",
      "\u001b[1;31mNameError\u001b[0m                                 Traceback (most recent call last)",
      "Cell \u001b[1;32mIn[1], line 1\u001b[0m\n\u001b[1;32m----> 1\u001b[0m \u001b[43mprintf\u001b[49m(\u001b[38;5;124m\"\u001b[39m\u001b[38;5;124mhello world!\u001b[39m\u001b[38;5;124m\"\u001b[39m)\n",
      "\u001b[1;31mNameError\u001b[0m: name 'printf' is not defined"
     ]
    }
   ],
   "source": [
    "printf(\"hello world!\")"
   ]
  },
  {
   "cell_type": "code",
   "execution_count": 2,
   "id": "d6d41fae-c50c-4c94-9985-801855f9a0c8",
   "metadata": {},
   "outputs": [
    {
     "name": "stdout",
     "output_type": "stream",
     "text": [
      "Hello world!\n"
     ]
    }
   ],
   "source": [
    "print(\"Hello world!\")"
   ]
  },
  {
   "cell_type": "code",
   "execution_count": 3,
   "id": "16b0b275-f077-4e30-ac47-65741b6abdb4",
   "metadata": {},
   "outputs": [
    {
     "name": "stdout",
     "output_type": "stream",
     "text": [
      "40\n"
     ]
    }
   ],
   "source": [
    "print(5*8)"
   ]
  },
  {
   "cell_type": "code",
   "execution_count": 5,
   "id": "396c121a-d6df-4c3f-ac79-4fb808416099",
   "metadata": {},
   "outputs": [
    {
     "name": "stdout",
     "output_type": "stream",
     "text": [
      "Requirement already satisfied: SpeechRecognition in c:\\users\\festus\\appdata\\local\\programs\\python\\python312\\lib\\site-packages (3.10.0)Note: you may need to restart the kernel to use updated packages.\n",
      "\n",
      "Requirement already satisfied: requests>=2.26.0 in c:\\users\\festus\\appdata\\local\\programs\\python\\python312\\lib\\site-packages (from SpeechRecognition) (2.31.0)\n",
      "Requirement already satisfied: charset-normalizer<4,>=2 in c:\\users\\festus\\appdata\\local\\programs\\python\\python312\\lib\\site-packages (from requests>=2.26.0->SpeechRecognition) (3.3.2)\n",
      "Requirement already satisfied: idna<4,>=2.5 in c:\\users\\festus\\appdata\\local\\programs\\python\\python312\\lib\\site-packages (from requests>=2.26.0->SpeechRecognition) (3.4)\n",
      "Requirement already satisfied: urllib3<3,>=1.21.1 in c:\\users\\festus\\appdata\\local\\programs\\python\\python312\\lib\\site-packages (from requests>=2.26.0->SpeechRecognition) (2.1.0)\n",
      "Requirement already satisfied: certifi>=2017.4.17 in c:\\users\\festus\\appdata\\local\\programs\\python\\python312\\lib\\site-packages (from requests>=2.26.0->SpeechRecognition) (2023.7.22)\n"
     ]
    },
    {
     "name": "stderr",
     "output_type": "stream",
     "text": [
      "\n",
      "[notice] A new release of pip is available: 23.2.1 -> 24.0\n",
      "[notice] To update, run: python.exe -m pip install --upgrade pip\n"
     ]
    }
   ],
   "source": [
    "pip install SpeechRecognition"
   ]
  },
  {
   "cell_type": "code",
   "execution_count": 7,
   "id": "1595db39-2bf6-4355-9930-193d98aeb4d7",
   "metadata": {},
   "outputs": [
    {
     "name": "stdout",
     "output_type": "stream",
     "text": [
      "Please start speaking...\n",
      "Recognizing...\n",
      "You said: hello\n"
     ]
    }
   ],
   "source": [
    "import speech_recognition as sr\n",
    "\n",
    "# Initialize the recognizer\n",
    "recognizer = sr.Recognizer()\n",
    "\n",
    "# Capture audio from the microphone\n",
    "with sr.Microphone() as source:\n",
    "    print(\"Please start speaking...\")\n",
    "    audio = recognizer.listen(source)\n",
    "\n",
    "# Use Google Web Speech API to recognize the audio\n",
    "try:\n",
    "    print(\"Recognizing...\")\n",
    "    text = recognizer.recognize_google(audio)\n",
    "    print(\"You said:\", text)\n",
    "except sr.UnknownValueError:\n",
    "    print(\"Sorry, I couldn't understand what you said.\")\n",
    "except sr.RequestError:\n",
    "    print(\"Sorry, I'm unable to access the Google Speech Recognition API. Please check your internet connection.\")\n"
   ]
  },
  {
   "cell_type": "code",
   "execution_count": 8,
   "id": "d668b9b0-2324-435f-8e65-265ab729481c",
   "metadata": {},
   "outputs": [
    {
     "name": "stdout",
     "output_type": "stream",
     "text": [
      "Please start speaking...\n",
      "Recognizing...\n",
      "You said: what is your name\n"
     ]
    }
   ],
   "source": [
    "import speech_recognition as sr\n",
    "\n",
    "# Initialize the recognizer\n",
    "recognizer = sr.Recognizer()\n",
    "\n",
    "# Capture audio from the microphone\n",
    "with sr.Microphone() as source:\n",
    "    print(\"Please start speaking...\")\n",
    "    audio = recognizer.listen(source)\n",
    "\n",
    "# Use Google Web Speech API to recognize the audio\n",
    "try:\n",
    "    print(\"Recognizing...\")\n",
    "    text = recognizer.recognize_google(audio)\n",
    "    print(\"You said:\", text)\n",
    "except sr.UnknownValueError:\n",
    "    print(\"Sorry, I couldn't understand what you said.\")\n",
    "except sr.RequestError:\n",
    "    print(\"Sorry, I'm unable to access the Google Speech Recognition API. Please check your internet connection.\")\n"
   ]
  },
  {
   "cell_type": "code",
   "execution_count": 9,
   "id": "f4acbb5e-41c2-488f-8749-bb50889d6bb8",
   "metadata": {},
   "outputs": [
    {
     "name": "stdout",
     "output_type": "stream",
     "text": [
      "Please start speaking...\n",
      "Recognizing...\n",
      "You said: what is your name\n"
     ]
    }
   ],
   "source": [
    "import speech_recognition as sr\n",
    "\n",
    "# Initialize the recognizer\n",
    "recognizer = sr.Recognizer()\n",
    "\n",
    "# Capture audio from the microphone\n",
    "with sr.Microphone() as source:\n",
    "    print(\"Please start speaking...\")\n",
    "    audio = recognizer.listen(source)\n",
    "\n",
    "# Use Google Web Speech API to recognize the audio\n",
    "try:\n",
    "    print(\"Recognizing...\")\n",
    "    text = recognizer.recognize_google(audio)\n",
    "    print(\"You said:\", text)\n",
    "except sr.UnknownValueError:\n",
    "    print(\"Sorry, I couldn't understand what you said.\")\n",
    "except sr.RequestError:\n",
    "    print(\"Sorry, I'm unable to access the Google Speech Recognition API. Please check your internet connection.\")\n"
   ]
  },
  {
   "cell_type": "code",
   "execution_count": 11,
   "id": "095ba1e0-f5ff-4486-9349-de3124f9b1c3",
   "metadata": {},
   "outputs": [
    {
     "name": "stdout",
     "output_type": "stream",
     "text": [
      "Please start speaking...\n",
      "Recognizing...\n",
      "You said: how are you\n"
     ]
    }
   ],
   "source": [
    "import speech_recognition as sr\n",
    "import win32com.client\n",
    "\n",
    "# Initialize the recognizer\n",
    "recognizer = sr.Recognizer()\n",
    "\n",
    "# Initialize Microsoft Word\n",
    "word = win32com.client.Dispatch(\"Word.Application\")\n",
    "word.Visible = True\n",
    "doc = word.Documents.Add()\n",
    "\n",
    "# Capture audio from the microphone\n",
    "with sr.Microphone() as source:\n",
    "    print(\"Please start speaking...\")\n",
    "    audio = recognizer.listen(source)\n",
    "\n",
    "# Use Google Web Speech API to recognize the audio\n",
    "try:\n",
    "    print(\"Recognizing...\")\n",
    "    text = recognizer.recognize_google(audio)\n",
    "    print(\"You said:\", text)\n",
    "    \n",
    "    # Type recognized text into Microsoft Word\n",
    "    selection = word.Selection\n",
    "    selection.TypeText(text)\n",
    "    \n",
    "    # Optionally, save the document\n",
    "    # doc.SaveAs(\"path/to/save/document.docx\")\n",
    "    \n",
    "except sr.UnknownValueError:\n",
    "    print(\"Sorry, I couldn't understand what you said.\")\n",
    "except sr.RequestError:\n",
    "    print(\"Sorry, I'm unable to access the Google Speech Recognition API. Please check your internet connection.\")\n"
   ]
  },
  {
   "cell_type": "code",
   "execution_count": null,
   "id": "672e34b4-ca2e-4580-862e-0e62fb949512",
   "metadata": {},
   "outputs": [],
   "source": [
    "import speech_recognition as sr\n",
    "import win32com.client\n",
    "\n",
    "# Initialize the recognizer\n",
    "recognizer = sr.Recognizer()\n",
    "\n",
    "# Initialize Microsoft Word\n",
    "word = win32com.client.Dispatch(\"Word.Application\")\n",
    "word.Visible = True\n",
    "doc = word.Documents.Add()\n",
    "\n",
    "# Capture audio from the microphone\n",
    "with sr.Microphone() as source:\n",
    "    print(\"Please start speaking...\")\n",
    "    \n",
    "    while True:\n",
    "        audio = recognizer.listen(source)\n",
    "        \n",
    "        # Use Google Web Speech API to recognize the audio\n",
    "        try:\n",
    "            print(\"Recognizing...\")\n",
    "            text = recognizer.recognize_google(audio)\n",
    "            print(\"You said:\", text)\n",
    "            \n",
    "            # Type recognized text into Microsoft Word\n",
    "            selection = word.Selection\n",
    "            selection.TypeText(text)\n",
    "            \n",
    "        except sr.UnknownValueError:\n",
    "            print(\"Sorry, I couldn't understand what you said.\")\n",
    "        except sr.RequestError:\n",
    "            print(\"Sorry, I'm unable to access the Google Speech Recognition API. Please check your internet connection.\")\n"
   ]
  },
  {
   "cell_type": "code",
   "execution_count": null,
   "id": "1edeb8cb-fc78-49a4-aef5-52405335d8b2",
   "metadata": {},
   "outputs": [],
   "source": []
  }
 ],
 "metadata": {
  "kernelspec": {
   "display_name": "Python 3 (ipykernel)",
   "language": "python",
   "name": "python3"
  },
  "language_info": {
   "codemirror_mode": {
    "name": "ipython",
    "version": 3
   },
   "file_extension": ".py",
   "mimetype": "text/x-python",
   "name": "python",
   "nbconvert_exporter": "python",
   "pygments_lexer": "ipython3",
   "version": "3.12.0"
  }
 },
 "nbformat": 4,
 "nbformat_minor": 5
}
